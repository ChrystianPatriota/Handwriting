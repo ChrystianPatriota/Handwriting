{
 "cells": [
  {
   "cell_type": "code",
   "execution_count": 1,
   "id": "d9891454",
   "metadata": {},
   "outputs": [
    {
     "ename": "ModuleNotFoundError",
     "evalue": "No module named 'getThings'",
     "output_type": "error",
     "traceback": [
      "\u001b[1;31m---------------------------------------------------------------------------\u001b[0m",
      "\u001b[1;31mModuleNotFoundError\u001b[0m                       Traceback (most recent call last)",
      "Input \u001b[1;32mIn [1]\u001b[0m, in \u001b[0;36m<cell line: 10>\u001b[1;34m()\u001b[0m\n\u001b[0;32m      7\u001b[0m \u001b[38;5;28;01mfrom\u001b[39;00m \u001b[38;5;21;01msklearn\u001b[39;00m\u001b[38;5;21;01m.\u001b[39;00m\u001b[38;5;21;01mneighbors\u001b[39;00m \u001b[38;5;28;01mimport\u001b[39;00m KNeighborsClassifier\n\u001b[0;32m      8\u001b[0m \u001b[38;5;28;01mfrom\u001b[39;00m \u001b[38;5;21;01msklearn\u001b[39;00m\u001b[38;5;21;01m.\u001b[39;00m\u001b[38;5;21;01mtree\u001b[39;00m \u001b[38;5;28;01mimport\u001b[39;00m DecisionTreeClassifier\n\u001b[1;32m---> 10\u001b[0m \u001b[38;5;28;01mfrom\u001b[39;00m \u001b[38;5;21;01mgetThings\u001b[39;00m \u001b[38;5;28;01mimport\u001b[39;00m tableCreater, listPeople, tableCreaterArticle, listPeopleArticle\n",
      "\u001b[1;31mModuleNotFoundError\u001b[0m: No module named 'getThings'"
     ]
    }
   ],
   "source": [
    "import numpy as np\n",
    "import pandas as pd\n",
    "from sklearn.ensemble import RandomForestClassifier\n",
    "from sklearn.metrics import accuracy_score\n",
    "from sklearn.model_selection import train_test_split\n",
    "# X ; Y; Z; Pressure; GripAngle; Timestamp; Test ID\n",
    "from sklearn.neighbors import KNeighborsClassifier\n",
    "from sklearn.tree import DecisionTreeClassifier\n",
    "\n",
    "from Utils import tableCreater, listPeople, tableCreaterArticle, listPeopleArticle"
   ]
  },
  {
   "cell_type": "code",
   "execution_count": null,
   "id": "fd44a950",
   "metadata": {},
   "outputs": [],
   "source": [
    "path_control = [\n",
    "    'data_motion/hw_dataset/control/C_0001.txt',\n",
    "    'data_motion/hw_dataset/control/C_0002.txt',\n",
    "    'data_motion/hw_dataset/control/C_0003.txt',\n",
    "    'data_motion/hw_dataset/control/C_0004.txt',\n",
    "    'data_motion/hw_dataset/control/C_0005.txt',\n",
    "    'data_motion/hw_dataset/control/C_0006.txt',\n",
    "    'data_motion/hw_dataset/control/C_0007.txt',\n",
    "    'data_motion/hw_dataset/control/C_0008.txt',\n",
    "    'data_motion/hw_dataset/control/C_0009.txt',\n",
    "    'data_motion/hw_dataset/control/C_0010.txt',\n",
    "    'data_motion/hw_dataset/control/C_0011.txt',\n",
    "    'data_motion/hw_dataset/control/C_0012.txt',\n",
    "    'data_motion/hw_dataset/control/C_0013.txt',\n",
    "    'data_motion/hw_dataset/control/C_0014.txt',\n",
    "    'data_motion/hw_dataset/control/C_0015.txt'\n",
    "]"
   ]
  },
  {
   "cell_type": "code",
   "execution_count": null,
   "id": "e7f00d2d",
   "metadata": {},
   "outputs": [],
   "source": [
    "path_parkinson = [\n",
    "    'data_motion/hw_dataset/parkinson/P_02100001.txt',\n",
    "    'data_motion/hw_dataset/parkinson/P_02100002.txt',\n",
    "    'data_motion/hw_dataset/parkinson/P_05060003.txt',\n",
    "    'data_motion/hw_dataset/parkinson/P_05060004.txt',\n",
    "    'data_motion/hw_dataset/parkinson/P_09100001.txt',\n",
    "    'data_motion/hw_dataset/parkinson/P_09100003.txt',\n",
    "    'data_motion/hw_dataset/parkinson/P_09100005.txt',\n",
    "    'data_motion/hw_dataset/parkinson/P_11120003.txt',\n",
    "    'data_motion/hw_dataset/parkinson/P_11120004.txt',\n",
    "    'data_motion/hw_dataset/parkinson/P_11120005.txt',\n",
    "    'data_motion/hw_dataset/parkinson/P_12060001.txt',\n",
    "    'data_motion/hw_dataset/parkinson/P_12060002.txt',\n",
    "    'data_motion/hw_dataset/parkinson/P_16100003.txt',\n",
    "    'data_motion/hw_dataset/parkinson/P_16100004.txt',\n",
    "    'data_motion/hw_dataset/parkinson/P_23100002.txt',\n",
    "    'data_motion/hw_dataset/parkinson/P_23100003.txt',\n",
    "    'data_motion/hw_dataset/parkinson/P_26060001.txt',\n",
    "    'data_motion/hw_dataset/parkinson/P_26060002.txt',\n",
    "    'data_motion/hw_dataset/parkinson/P_26060003.txt',\n",
    "    'data_motion/hw_dataset/parkinson/P_26060006.txt',\n",
    "    'data_motion/hw_dataset/parkinson/P_26060007.txt',\n",
    "    'data_motion/hw_dataset/parkinson/P_27110001.txt',\n",
    "    'data_motion/hw_dataset/parkinson/P_27110003.txt',\n",
    "    'data_motion/hw_dataset/parkinson/P_30100001.txt',\n",
    "    'data_motion/hw_dataset/parkinson/P_30100002.txt',\n",
    "    'data_motion/new_dataset/parkinson/H_P000-0001.txt',\n",
    "    'data_motion/new_dataset/parkinson/H_P000-0002.txt',\n",
    "    'data_motion/new_dataset/parkinson/H_P000-0003.txt',\n",
    "    'data_motion/new_dataset/parkinson/H_P000-0004.txt',\n",
    "    'data_motion/new_dataset/parkinson/H_P000-0007.txt',\n",
    "    'data_motion/new_dataset/parkinson/H_P000-0008.txt',\n",
    "    'data_motion/new_dataset/parkinson/H_p000-0010.txt',\n",
    "    'data_motion/new_dataset/parkinson/H_P000-0011.txt',\n",
    "    'data_motion/new_dataset/parkinson/H_P000-0012.txt',\n",
    "    'data_motion/new_dataset/parkinson/H_P000-0013.txt',\n",
    "    'data_motion/new_dataset/parkinson/H_P000-0014.txt',\n",
    "    'data_motion/new_dataset/parkinson/H_P000-0015.txt',\n",
    "    'data_motion/new_dataset/parkinson/H_P000-0016.txt',\n",
    "    'data_motion/new_dataset/parkinson/H_p000-0017.txt',\n",
    "    'data_motion/new_dataset/parkinson/H_p000-0018.txt',\n",
    "    'data_motion/new_dataset/parkinson/H_P000-0019.txt',\n",
    "    'data_motion/new_dataset/parkinson/H_P000-0020.txt',\n",
    "    'data_motion/new_dataset/parkinson/H_P000-0021.txt',\n",
    "    'data_motion/new_dataset/parkinson/H_P000-0022.txt',\n",
    "    'data_motion/new_dataset/parkinson/H_P000-0023.txt',\n",
    "    'data_motion/new_dataset/parkinson/H_P000-0024.txt',\n",
    "    'data_motion/new_dataset/parkinson/H_P000-0025.txt',\n",
    "    'data_motion/new_dataset/parkinson/H_p000-0028.txt',\n",
    "    'data_motion/new_dataset/parkinson/H_P000-0029.txt',\n",
    "    'data_motion/new_dataset/parkinson/H_P000-0030.txt',\n",
    "    'data_motion/new_dataset/parkinson/H_P000-0031.txt',\n",
    "    'data_motion/new_dataset/parkinson/H_P000-0032.txt',\n",
    "    'data_motion/new_dataset/parkinson/H_P000-0033.txt',\n",
    "    'data_motion/new_dataset/parkinson/H_P000-0034.txt',\n",
    "    'data_motion/new_dataset/parkinson/H_P000-0035.txt',\n",
    "    'data_motion/new_dataset/parkinson/H_P000-0036.txt',\n",
    "    'data_motion/new_dataset/parkinson/H_P000-0037.txt',\n",
    "    'data_motion/new_dataset/parkinson/H_P000-0039.txt',\n",
    "    'data_motion/new_dataset/parkinson/H_P000-0040.txt',\n",
    "    'data_motion/new_dataset/parkinson/H_p000-0041.txt',\n",
    "    'data_motion/new_dataset/parkinson/H_p000-0042.txt',\n",
    "    'data_motion/new_dataset/parkinson/H_p000-0043.txt'\n",
    "]"
   ]
  },
  {
   "cell_type": "code",
   "execution_count": null,
   "id": "39eff430",
   "metadata": {},
   "outputs": [],
   "source": [
    "testID = 0"
   ]
  },
  {
   "cell_type": "code",
   "execution_count": null,
   "id": "6807d126",
   "metadata": {},
   "outputs": [],
   "source": [
    "listControl = listPeopleArticle(path_control, testID)\n",
    "listParkinson = listPeopleArticle(path_parkinson, testID)"
   ]
  },
  {
   "cell_type": "code",
   "execution_count": null,
   "id": "05f6ab64",
   "metadata": {},
   "outputs": [],
   "source": [
    "listControl[0].head(20)"
   ]
  },
  {
   "cell_type": "code",
   "execution_count": 7,
   "id": "d50a20bb",
   "metadata": {},
   "outputs": [],
   "source": [
    "listControl, controlDiagnoses = tableCreaterArticle(listControl, 0, testID)\n",
    "listParkinson, parkinsonDiagnoses = tableCreaterArticle(listParkinson, 1, testID)"
   ]
  },
  {
   "cell_type": "code",
   "execution_count": 8,
   "id": "26c0b681",
   "metadata": {},
   "outputs": [],
   "source": [
    "listPerson = pd.concat([listControl, listParkinson])\n",
    "listDiagnoses = np.concatenate([controlDiagnoses, parkinsonDiagnoses])"
   ]
  },
  {
   "cell_type": "code",
   "execution_count": 9,
   "id": "e9e76df5",
   "metadata": {},
   "outputs": [
    {
     "data": {
      "text/html": [
       "<div>\n",
       "<style scoped>\n",
       "    .dataframe tbody tr th:only-of-type {\n",
       "        vertical-align: middle;\n",
       "    }\n",
       "\n",
       "    .dataframe tbody tr th {\n",
       "        vertical-align: top;\n",
       "    }\n",
       "\n",
       "    .dataframe thead th {\n",
       "        text-align: right;\n",
       "    }\n",
       "</style>\n",
       "<table border=\"1\" class=\"dataframe\">\n",
       "  <thead>\n",
       "    <tr style=\"text-align: right;\">\n",
       "      <th></th>\n",
       "      <th>velocityWeighted</th>\n",
       "      <th>pressureWeighted</th>\n",
       "      <th>CISP</th>\n",
       "    </tr>\n",
       "  </thead>\n",
       "  <tbody>\n",
       "    <tr>\n",
       "      <th>0</th>\n",
       "      <td>166.545769</td>\n",
       "      <td>897.718045</td>\n",
       "      <td>149511.142116</td>\n",
       "    </tr>\n",
       "    <tr>\n",
       "      <th>1</th>\n",
       "      <td>148.699103</td>\n",
       "      <td>793.210319</td>\n",
       "      <td>117949.663083</td>\n",
       "    </tr>\n",
       "    <tr>\n",
       "      <th>2</th>\n",
       "      <td>147.285197</td>\n",
       "      <td>850.428865</td>\n",
       "      <td>125255.582894</td>\n",
       "    </tr>\n",
       "    <tr>\n",
       "      <th>3</th>\n",
       "      <td>152.507921</td>\n",
       "      <td>897.711227</td>\n",
       "      <td>136908.072490</td>\n",
       "    </tr>\n",
       "    <tr>\n",
       "      <th>4</th>\n",
       "      <td>188.952987</td>\n",
       "      <td>935.900797</td>\n",
       "      <td>176841.251130</td>\n",
       "    </tr>\n",
       "    <tr>\n",
       "      <th>...</th>\n",
       "      <td>...</td>\n",
       "      <td>...</td>\n",
       "      <td>...</td>\n",
       "    </tr>\n",
       "    <tr>\n",
       "      <th>56</th>\n",
       "      <td>322.534903</td>\n",
       "      <td>497.233777</td>\n",
       "      <td>160375.247961</td>\n",
       "    </tr>\n",
       "    <tr>\n",
       "      <th>57</th>\n",
       "      <td>551.387807</td>\n",
       "      <td>752.718014</td>\n",
       "      <td>415039.535057</td>\n",
       "    </tr>\n",
       "    <tr>\n",
       "      <th>58</th>\n",
       "      <td>224.635038</td>\n",
       "      <td>630.470581</td>\n",
       "      <td>141625.783007</td>\n",
       "    </tr>\n",
       "    <tr>\n",
       "      <th>59</th>\n",
       "      <td>183.983337</td>\n",
       "      <td>552.997890</td>\n",
       "      <td>101742.396971</td>\n",
       "    </tr>\n",
       "    <tr>\n",
       "      <th>60</th>\n",
       "      <td>558.145298</td>\n",
       "      <td>808.382679</td>\n",
       "      <td>451194.991659</td>\n",
       "    </tr>\n",
       "  </tbody>\n",
       "</table>\n",
       "<p>76 rows × 3 columns</p>\n",
       "</div>"
      ],
      "text/plain": [
       "    velocityWeighted  pressureWeighted           CISP\n",
       "0         166.545769        897.718045  149511.142116\n",
       "1         148.699103        793.210319  117949.663083\n",
       "2         147.285197        850.428865  125255.582894\n",
       "3         152.507921        897.711227  136908.072490\n",
       "4         188.952987        935.900797  176841.251130\n",
       "..               ...               ...            ...\n",
       "56        322.534903        497.233777  160375.247961\n",
       "57        551.387807        752.718014  415039.535057\n",
       "58        224.635038        630.470581  141625.783007\n",
       "59        183.983337        552.997890  101742.396971\n",
       "60        558.145298        808.382679  451194.991659\n",
       "\n",
       "[76 rows x 3 columns]"
      ]
     },
     "execution_count": 9,
     "metadata": {},
     "output_type": "execute_result"
    }
   ],
   "source": [
    "listPerson"
   ]
  },
  {
   "cell_type": "code",
   "execution_count": 10,
   "id": "102e46d4",
   "metadata": {},
   "outputs": [],
   "source": [
    "xTrain, xTest, yTrain, yTest = train_test_split(listPerson, listDiagnoses, test_size=0.2)"
   ]
  },
  {
   "cell_type": "code",
   "execution_count": 11,
   "id": "17e87712",
   "metadata": {},
   "outputs": [],
   "source": [
    "knnc = KNeighborsClassifier().fit(xTrain, yTrain)\n",
    "cartc = DecisionTreeClassifier().fit(xTrain, yTrain)\n",
    "rfc = RandomForestClassifier().fit(xTrain, yTrain)"
   ]
  },
  {
   "cell_type": "code",
   "execution_count": 12,
   "id": "625b3ef0",
   "metadata": {},
   "outputs": [
    {
     "name": "stdout",
     "output_type": "stream",
     "text": [
      "KNeighborsClassifier: \n",
      "ACC--> 0.9375\n",
      "DecisionTreeClassifier: \n",
      "ACC--> 0.875\n",
      "RandomForestClassifier: \n",
      "ACC--> 0.8125\n"
     ]
    }
   ],
   "source": [
    "modelsc = [knnc, cartc, rfc]\n",
    "\n",
    "for model in modelsc:\n",
    "    name = model.__class__.__name__\n",
    "    predict = model.predict(xTest)\n",
    "    print(name + \": \")\n",
    "    print(\"ACC-->\", accuracy_score(yTest, predict))"
   ]
  }
 ],
 "metadata": {
  "kernelspec": {
   "display_name": "Python 3 (ipykernel)",
   "language": "python",
   "name": "python3"
  },
  "language_info": {
   "codemirror_mode": {
    "name": "ipython",
    "version": 3
   },
   "file_extension": ".py",
   "mimetype": "text/x-python",
   "name": "python",
   "nbconvert_exporter": "python",
   "pygments_lexer": "ipython3",
   "version": "3.10.4"
  }
 },
 "nbformat": 4,
 "nbformat_minor": 5
}
