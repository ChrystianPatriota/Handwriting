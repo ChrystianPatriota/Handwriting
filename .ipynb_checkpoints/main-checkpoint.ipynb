{
 "cells": [
  {
   "cell_type": "code",
   "execution_count": 3,
   "id": "94ae9e1a",
   "metadata": {},
   "outputs": [
    {
     "ename": "ModuleNotFoundError",
     "evalue": "No module named 'pandas'",
     "output_type": "error",
     "traceback": [
      "\u001b[1;31m---------------------------------------------------------------------------\u001b[0m",
      "\u001b[1;31mModuleNotFoundError\u001b[0m                       Traceback (most recent call last)",
      "Input \u001b[1;32mIn [3]\u001b[0m, in \u001b[0;36m<cell line: 2>\u001b[1;34m()\u001b[0m\n\u001b[0;32m      1\u001b[0m \u001b[38;5;28;01mimport\u001b[39;00m \u001b[38;5;21;01mnumpy\u001b[39;00m \u001b[38;5;28;01mas\u001b[39;00m \u001b[38;5;21;01mnp\u001b[39;00m\n\u001b[1;32m----> 2\u001b[0m \u001b[38;5;28;01mimport\u001b[39;00m \u001b[38;5;21;01mpandas\u001b[39;00m \u001b[38;5;28;01mas\u001b[39;00m \u001b[38;5;21;01mpd\u001b[39;00m\n\u001b[0;32m      3\u001b[0m \u001b[38;5;28;01mfrom\u001b[39;00m \u001b[38;5;21;01msklearn\u001b[39;00m\u001b[38;5;21;01m.\u001b[39;00m\u001b[38;5;21;01mensemble\u001b[39;00m \u001b[38;5;28;01mimport\u001b[39;00m RandomForestClassifier\n\u001b[0;32m      4\u001b[0m \u001b[38;5;28;01mfrom\u001b[39;00m \u001b[38;5;21;01msklearn\u001b[39;00m\u001b[38;5;21;01m.\u001b[39;00m\u001b[38;5;21;01mmetrics\u001b[39;00m \u001b[38;5;28;01mimport\u001b[39;00m accuracy_score\n",
      "\u001b[1;31mModuleNotFoundError\u001b[0m: No module named 'pandas'"
     ]
    }
   ],
   "source": [
    "import numpy as np\n",
    "import pandas as pd\n",
    "from sklearn.ensemble import RandomForestClassifier\n",
    "from sklearn.metrics import accuracy_score\n",
    "from sklearn.model_selection import train_test_split\n",
    "# X ; Y; Z; Pressure; GripAngle; Timestamp; Test ID\n",
    "from sklearn.neighbors import KNeighborsClassifier\n",
    "from sklearn.tree import DecisionTreeClassifier\n",
    "\n",
    "from getThings import tableCreater, listPeople, tableCreaterArticle, listPeopleArticle"
   ]
  },
  {
   "cell_type": "code",
   "execution_count": null,
   "id": "2c20735b",
   "metadata": {},
   "outputs": [],
   "source": [
    "path_control = [\n",
    "    '2/hw_dataset/control/C_0001.txt',\n",
    "    '2/hw_dataset/control/C_0002.txt',\n",
    "    '2/hw_dataset/control/C_0003.txt',\n",
    "    '2/hw_dataset/control/C_0004.txt',\n",
    "    '2/hw_dataset/control/C_0005.txt',\n",
    "    '2/hw_dataset/control/C_0006.txt',\n",
    "    '2/hw_dataset/control/C_0007.txt',\n",
    "    '2/hw_dataset/control/C_0008.txt',\n",
    "    '2/hw_dataset/control/C_0009.txt',\n",
    "    '2/hw_dataset/control/C_0010.txt',\n",
    "    '2/hw_dataset/control/C_0011.txt',\n",
    "    '2/hw_dataset/control/C_0012.txt',\n",
    "    '2/hw_dataset/control/C_0013.txt',\n",
    "    '2/hw_dataset/control/C_0014.txt',\n",
    "    '2/hw_dataset/control/C_0015.txt'\n",
    "]"
   ]
  },
  {
   "cell_type": "code",
   "execution_count": null,
   "id": "155043ae",
   "metadata": {},
   "outputs": [],
   "source": [
    "path_parkinson = [\n",
    "    '2/hw_dataset/parkinson/P_02100001.txt',\n",
    "    '2/hw_dataset/parkinson/P_02100002.txt',\n",
    "    '2/hw_dataset/parkinson/P_05060003.txt',\n",
    "    '2/hw_dataset/parkinson/P_05060004.txt',\n",
    "    '2/hw_dataset/parkinson/P_09100001.txt',\n",
    "    '2/hw_dataset/parkinson/P_09100003.txt',\n",
    "    '2/hw_dataset/parkinson/P_09100005.txt',\n",
    "    '2/hw_dataset/parkinson/P_11120003.txt',\n",
    "    '2/hw_dataset/parkinson/P_11120004.txt',\n",
    "    '2/hw_dataset/parkinson/P_11120005.txt',\n",
    "    '2/hw_dataset/parkinson/P_12060001.txt',\n",
    "    '2/hw_dataset/parkinson/P_12060002.txt',\n",
    "    '2/hw_dataset/parkinson/P_16100003.txt',\n",
    "    '2/hw_dataset/parkinson/P_16100004.txt',\n",
    "    '2/hw_dataset/parkinson/P_23100002.txt',\n",
    "    '2/hw_dataset/parkinson/P_23100003.txt',\n",
    "    '2/hw_dataset/parkinson/P_26060001.txt',\n",
    "    '2/hw_dataset/parkinson/P_26060002.txt',\n",
    "    '2/hw_dataset/parkinson/P_26060003.txt',\n",
    "    '2/hw_dataset/parkinson/P_26060006.txt',\n",
    "    '2/hw_dataset/parkinson/P_26060007.txt',\n",
    "    '2/hw_dataset/parkinson/P_27110001.txt',\n",
    "    '2/hw_dataset/parkinson/P_27110003.txt',\n",
    "    '2/hw_dataset/parkinson/P_30100001.txt',\n",
    "    '2/hw_dataset/parkinson/P_30100002.txt',\n",
    "    '2/new_dataset/parkinson/H_P000-0001.txt',\n",
    "    '2/new_dataset/parkinson/H_P000-0002.txt',\n",
    "    '2/new_dataset/parkinson/H_P000-0003.txt',\n",
    "    '2/new_dataset/parkinson/H_P000-0004.txt',\n",
    "    '2/new_dataset/parkinson/H_P000-0007.txt',\n",
    "    '2/new_dataset/parkinson/H_P000-0008.txt',\n",
    "    '2/new_dataset/parkinson/H_p000-0010.txt',\n",
    "    '2/new_dataset/parkinson/H_P000-0011.txt',\n",
    "    '2/new_dataset/parkinson/H_P000-0012.txt',\n",
    "    '2/new_dataset/parkinson/H_P000-0013.txt',\n",
    "    '2/new_dataset/parkinson/H_P000-0014.txt',\n",
    "    '2/new_dataset/parkinson/H_P000-0015.txt',\n",
    "    '2/new_dataset/parkinson/H_P000-0016.txt',\n",
    "    '2/new_dataset/parkinson/H_p000-0017.txt',\n",
    "    '2/new_dataset/parkinson/H_p000-0018.txt',\n",
    "    '2/new_dataset/parkinson/H_P000-0019.txt',\n",
    "    '2/new_dataset/parkinson/H_P000-0020.txt',\n",
    "    '2/new_dataset/parkinson/H_P000-0021.txt',\n",
    "    '2/new_dataset/parkinson/H_P000-0022.txt',\n",
    "    '2/new_dataset/parkinson/H_P000-0023.txt',\n",
    "    '2/new_dataset/parkinson/H_P000-0024.txt',\n",
    "    '2/new_dataset/parkinson/H_P000-0025.txt',\n",
    "    '2/new_dataset/parkinson/H_p000-0028.txt',\n",
    "    '2/new_dataset/parkinson/H_P000-0029.txt',\n",
    "    '2/new_dataset/parkinson/H_P000-0030.txt',\n",
    "    '2/new_dataset/parkinson/H_P000-0031.txt',\n",
    "    '2/new_dataset/parkinson/H_P000-0032.txt',\n",
    "    '2/new_dataset/parkinson/H_P000-0033.txt',\n",
    "    '2/new_dataset/parkinson/H_P000-0034.txt',\n",
    "    '2/new_dataset/parkinson/H_P000-0035.txt',\n",
    "    '2/new_dataset/parkinson/H_P000-0036.txt',\n",
    "    '2/new_dataset/parkinson/H_P000-0037.txt',\n",
    "    '2/new_dataset/parkinson/H_P000-0039.txt',\n",
    "    '2/new_dataset/parkinson/H_P000-0040.txt',\n",
    "    '2/new_dataset/parkinson/H_p000-0041.txt',\n",
    "    '2/new_dataset/parkinson/H_p000-0042.txt',\n",
    "    '2/new_dataset/parkinson/H_p000-0043.txt'\n",
    "]"
   ]
  },
  {
   "cell_type": "code",
   "execution_count": null,
   "id": "b501a97b",
   "metadata": {},
   "outputs": [],
   "source": [
    "testID = 0"
   ]
  },
  {
   "cell_type": "code",
   "execution_count": null,
   "id": "2e39aa0c",
   "metadata": {},
   "outputs": [],
   "source": [
    "listControl = listPeopleArticle(path_control, testID)\n",
    "listParkinson = listPeopleArticle(path_parkinson, testID)"
   ]
  },
  {
   "cell_type": "code",
   "execution_count": null,
   "id": "012bb563",
   "metadata": {},
   "outputs": [],
   "source": [
    "listControl[0]"
   ]
  },
  {
   "cell_type": "code",
   "execution_count": null,
   "id": "ec8aef78",
   "metadata": {},
   "outputs": [],
   "source": [
    "listControl, controlDiagnoses = tableCreaterArticle(listControl, 0, testID)\n",
    "listParkinson, parkinsonDiagnoses = tableCreaterArticle(listParkinson, 1, testID)"
   ]
  },
  {
   "cell_type": "code",
   "execution_count": null,
   "id": "4968e527",
   "metadata": {},
   "outputs": [],
   "source": [
    "listPerson = pd.concat([listControl, listParkinson])\n",
    "listDiagnoses = np.concatenate([controlDiagnoses, parkinsonDiagnoses])"
   ]
  },
  {
   "cell_type": "code",
   "execution_count": null,
   "id": "9ad57153",
   "metadata": {},
   "outputs": [],
   "source": [
    "xTrain, xTest, yTrain, yTest = train_test_split(listPerson, listDiagnoses, test_size=0.5)"
   ]
  },
  {
   "cell_type": "code",
   "execution_count": null,
   "id": "944ae68c",
   "metadata": {},
   "outputs": [],
   "source": [
    "knnc = KNeighborsClassifier().fit(xTrain, yTrain)\n",
    "cartc = DecisionTreeClassifier().fit(xTrain, yTrain)\n",
    "rfc = RandomForestClassifier().fit(xTrain, yTrain)"
   ]
  },
  {
   "cell_type": "code",
   "execution_count": null,
   "id": "c8a1b6f1",
   "metadata": {},
   "outputs": [],
   "source": [
    "modelsc = [knnc, cartc, rfc]\n",
    "\n",
    "for model in modelsc:\n",
    "    name = model.__class__.__name__\n",
    "    predict = model.predict(xTest)\n",
    "    print(name + \": \")\n",
    "    print(\"ACC-->\", accuracy_score(yTest, predict))"
   ]
  }
 ],
 "metadata": {
  "kernelspec": {
   "display_name": "Python 3 (ipykernel)",
   "language": "python",
   "name": "python3"
  },
  "language_info": {
   "codemirror_mode": {
    "name": "ipython",
    "version": 3
   },
   "file_extension": ".py",
   "mimetype": "text/x-python",
   "name": "python",
   "nbconvert_exporter": "python",
   "pygments_lexer": "ipython3",
   "version": "3.10.4"
  }
 },
 "nbformat": 4,
 "nbformat_minor": 5
}
